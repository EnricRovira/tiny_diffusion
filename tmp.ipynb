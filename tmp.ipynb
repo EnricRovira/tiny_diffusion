{
 "cells": [
  {
   "cell_type": "code",
   "execution_count": 1,
   "metadata": {},
   "outputs": [
    {
     "name": "stderr",
     "output_type": "stream",
     "text": [
      "/home/enric/projects/tiny_diffusion/.venv/lib/python3.12/site-packages/tqdm/auto.py:21: TqdmWarning: IProgress not found. Please update jupyter and ipywidgets. See https://ipywidgets.readthedocs.io/en/stable/user_install.html\n",
      "  from .autonotebook import tqdm as notebook_tqdm\n"
     ]
    },
    {
     "data": {
      "text/plain": [
       "polars.config.Config"
      ]
     },
     "execution_count": 1,
     "metadata": {},
     "output_type": "execute_result"
    }
   ],
   "source": [
    "from datasets import load_dataset, Dataset\n",
    "from tqdm import tqdm\n",
    "import polars as pl\n",
    "from concurrent.futures import ProcessPoolExecutor\n",
    "import spacy\n",
    "from functools import partial\n",
    "import re\n",
    "from PIL import Image\n",
    "\n",
    "pl.Config.set_fmt_str_lengths(200)"
   ]
  },
  {
   "cell_type": "code",
   "execution_count": null,
   "metadata": {},
   "outputs": [],
   "source": [
    "PATH = '/mnt/sd1tb/tinydiffusion/dataset_v0/'"
   ]
  },
  {
   "cell_type": "code",
   "execution_count": 8,
   "metadata": {},
   "outputs": [
    {
     "data": {
      "text/plain": [
       "374"
      ]
     },
     "execution_count": 8,
     "metadata": {},
     "output_type": "execute_result"
    }
   ],
   "source": [
    "df = pl.read_parquet(PATH + 'dataset_raw.parquet')\n",
    "len(df)"
   ]
  },
  {
   "cell_type": "code",
   "execution_count": 9,
   "metadata": {},
   "outputs": [
    {
     "data": {
      "text/plain": [
       "374"
      ]
     },
     "execution_count": 9,
     "metadata": {},
     "output_type": "execute_result"
    }
   ],
   "source": [
    "df = pl.read_parquet(PATH + 'imgs/00000.parquet')\n",
    "len(df)"
   ]
  },
  {
   "cell_type": "code",
   "execution_count": 10,
   "metadata": {},
   "outputs": [
    {
     "data": {
      "text/html": [
       "<div><style>\n",
       ".dataframe > thead > tr,\n",
       ".dataframe > tbody > tr {\n",
       "  text-align: right;\n",
       "  white-space: pre-wrap;\n",
       "}\n",
       "</style>\n",
       "<small>shape: (374, 12)</small><table border=\"1\" class=\"dataframe\"><thead><tr><th>id</th><th>caption</th><th>url</th><th>key</th><th>status</th><th>error_message</th><th>width</th><th>height</th><th>original_width</th><th>original_height</th><th>exif</th><th>sha256</th></tr><tr><td>str</td><td>str</td><td>str</td><td>str</td><td>str</td><td>str</td><td>i32</td><td>i32</td><td>i32</td><td>i32</td><td>str</td><td>str</td></tr></thead><tbody><tr><td>&quot;3846285008153&quot;</td><td>&quot;MP3 &amp; FM Music Player with LCD Screen Clip-On Mini Support 32GB Micro SD TF-Assorted Colors - christmasgiftbuy&quot;</td><td>&quot;https://cdn.shopify.com/s/files/1/0048/2787/3383/products/LCD_screen_MP3_player_420x.jpg?v=1584136939&quot;</td><td>&quot;00000003&quot;</td><td>&quot;success&quot;</td><td>null</td><td>256</td><td>256</td><td>420</td><td>420</td><td>&quot;{&quot;Image Orientation&quot;: &quot;Horizontal (normal)&quot;, &quot;Image XResolution&quot;: &quot;144&quot;, &quot;Image YResolution&quot;: &quot;144&quot;, &quot;Image ResolutionUnit&quot;: &quot;Pixels/Inch&quot;, &quot;Image YCbCrPositioning&quot;: &quot;Centered&quot;, &quot;Image ExifOffset&quot;: &quot;1…</td><td>&quot;0e97f86680db0011b6dd05a420fd6c882ad5d8b275a223bd51d3f673f4ccf479&quot;</td></tr><tr><td>&quot;3836587000648&quot;</td><td>&quot;Victure MP3 Player Clip Bluetooth 8G with FM Radio Sport Pedometer Voice Recorder Earphones Expandable up to 128GB 3&quot;</td><td>&quot;https://m.media-amazon.com/images/I/41t12RZwfHL._SS600_.jpg&quot;</td><td>&quot;00000006&quot;</td><td>&quot;success&quot;</td><td>null</td><td>256</td><td>256</td><td>600</td><td>600</td><td>&quot;{}&quot;</td><td>&quot;8cd1927f96ba9212283d4c3539b326d84a150452584e5415f980fa1085892ffb&quot;</td></tr><tr><td>&quot;4116514001738&quot;</td><td>&quot;23 Pcs Tool Set Kit Box Pink Women Ladies Girls Female Hand Tools Pliers • 16.11£&quot;</td><td>&quot;https://www.dealsanimg.com/d/l400/pict/383810886274_/23-pcs-tool-set-kit-box-pink-women-ladies-girls-female-hand.jpg&quot;</td><td>&quot;00000001&quot;</td><td>&quot;failed_to_resize&quot;</td><td>&quot;OpenCV(4.10.0) /io/opencv/modules/imgcodecs/src/loadsave.cpp:813: error: (-215:Assertion failed) !buf.empty() in function &#x27;imdecode_&#x27;\n",
       "&quot;</td><td>null</td><td>null</td><td>null</td><td>null</td><td>null</td><td>null</td></tr><tr><td>&quot;2923832009258&quot;</td><td>&quot;Dialectical Behavior Therapy: The Ultimate Guide for Using DBT for Borderline Personality Disorder, Difficult Emotions and Mood Swings, Including Techniques such as Mindfulness and Emotion Regulation …</td><td>&quot;https://m.media-amazon.com/images/I/511LtEZ2m5L._SL320_.jpg&quot;</td><td>&quot;00000008&quot;</td><td>&quot;success&quot;</td><td>null</td><td>256</td><td>256</td><td>320</td><td>320</td><td>&quot;{}&quot;</td><td>&quot;8bb9efa5544352e2190728c851d3d61a96fea4bcd793134e34e30cdb76c8c366&quot;</td></tr><tr><td>&quot;3715889016426&quot;</td><td>&quot;Primary image for Let&#x27;s Swing Disc Three [Audio CD] Stan Kenton; Ben Pollack; Cab Calloway; Ben..&quot;</td><td>&quot;https://images.bonanzastatic.com/afu/images/2375/2386/66/61ixzuadt1l._sl1500_.jpg&quot;</td><td>&quot;00000005&quot;</td><td>&quot;success&quot;</td><td>null</td><td>256</td><td>256</td><td>500</td><td>480</td><td>&quot;{}&quot;</td><td>&quot;12fdf117cb0a551343ded61c6fde8308900affa584d186a85f1d4f11387e4f6e&quot;</td></tr><tr><td>&hellip;</td><td>&hellip;</td><td>&hellip;</td><td>&hellip;</td><td>&hellip;</td><td>&hellip;</td><td>&hellip;</td><td>&hellip;</td><td>&hellip;</td><td>&hellip;</td><td>&hellip;</td><td>&hellip;</td></tr><tr><td>&quot;2312043014249&quot;</td><td>&quot;Beautiful fall colored maple leaves, next to an aspen tree trunk, beneath a deep blue sky in Colorado&quot;</td><td>&quot;https://photos.smugmug.com/Stock-Photos-and-Illustrations/ScenicLandscape/i-W2WmNT9/2/4265efb1/M/trip%20176-M.jpg&quot;</td><td>&quot;00000372&quot;</td><td>&quot;success&quot;</td><td>null</td><td>256</td><td>256</td><td>338</td><td>450</td><td>&quot;{&quot;Image ExifOffset&quot;: &quot;26&quot;}&quot;</td><td>&quot;51308c0483ad2d901ac270a515ff7bab113a386839c1b6d8092b28c5e9887ed7&quot;</td></tr><tr><td>&quot;181432000232&quot;</td><td>&quot;magenta OASAP bag - navy Topshop jeans - black Lovelyshoes blazer&quot;</td><td>&quot;http://images3.chictopia.com/photos/RetroStreetStation/4845128544/navy-topshop-jeans-black-lovelyshoes-blazer-magenta-oasap-bag.jpg&quot;</td><td>&quot;00000328&quot;</td><td>&quot;success&quot;</td><td>null</td><td>256</td><td>256</td><td>300</td><td>450</td><td>&quot;{&quot;Image ImageWidth&quot;: &quot;3456&quot;, &quot;Image ImageLength&quot;: &quot;5184&quot;, &quot;Image BitsPerSample&quot;: &quot;[8, 8, 8]&quot;, &quot;Image PhotometricInterpretation&quot;: &quot;2&quot;, &quot;Image Make&quot;: &quot;Canon&quot;, &quot;Image Model&quot;: &quot;Canon EOS 550D&quot;, &quot;Image Ori…</td><td>&quot;47de27ebe85ac16676b40e1ba2706643d340ab7d5ff5e69435965cbcb1bf99e9&quot;</td></tr><tr><td>&quot;1891417010526&quot;</td><td>&quot;display product reviews for roughneck storage shed common 5 ft x 6&quot;</td><td>&quot;https://mobileimages.lowes.com/product/converted/071691/071691481799.jpg&quot;</td><td>&quot;00000371&quot;</td><td>&quot;success&quot;</td><td>null</td><td>256</td><td>256</td><td>900</td><td>900</td><td>&quot;{}&quot;</td><td>&quot;0b3a4d2e31fd77c56edfc49f9112fa69e0d5ebe99f700c4371998fff74d0ddef&quot;</td></tr><tr><td>&quot;3101556008007&quot;</td><td>&quot;Chico &amp; Frisco Kid / T.O.K. - Gal Teacher / Gal Fi Get Loving&quot;</td><td>&quot;https://www.vinylism.de/media/catalog/product/cache/2/small_image/400x400/17f82f742ffe127f42dca9de82fb58b1/2/3/237582.jpg&quot;</td><td>&quot;00000369&quot;</td><td>&quot;failed_to_download&quot;</td><td>&quot;HTTP Error 404: Not Found&quot;</td><td>null</td><td>null</td><td>null</td><td>null</td><td>null</td><td>null</td></tr><tr><td>&quot;112125003890&quot;</td><td>&quot;New OtherTees Website Countdown 1327398286415 T shirt news for January 24th&quot;</td><td>&quot;http://hideyourarms.com/wp-content/uploads/2012/01/New-OtherTees-Website-Countdown_1327398286415.png&quot;</td><td>&quot;00000290&quot;</td><td>&quot;failed_to_download&quot;</td><td>&quot;&lt;urlopen error timed out&gt;&quot;</td><td>null</td><td>null</td><td>null</td><td>null</td><td>null</td><td>null</td></tr></tbody></table></div>"
      ],
      "text/plain": [
       "shape: (374, 12)\n",
       "┌───────────┬───────────┬───────────┬──────────┬───┬───────────┬───────────┬───────────┬───────────┐\n",
       "│ id        ┆ caption   ┆ url       ┆ key      ┆ … ┆ original_ ┆ original_ ┆ exif      ┆ sha256    │\n",
       "│ ---       ┆ ---       ┆ ---       ┆ ---      ┆   ┆ width     ┆ height    ┆ ---       ┆ ---       │\n",
       "│ str       ┆ str       ┆ str       ┆ str      ┆   ┆ ---       ┆ ---       ┆ str       ┆ str       │\n",
       "│           ┆           ┆           ┆          ┆   ┆ i32       ┆ i32       ┆           ┆           │\n",
       "╞═══════════╪═══════════╪═══════════╪══════════╪═══╪═══════════╪═══════════╪═══════════╪═══════════╡\n",
       "│ 384628500 ┆ MP3 & FM  ┆ https://c ┆ 00000003 ┆ … ┆ 420       ┆ 420       ┆ {\"Image   ┆ 0e97f8668 │\n",
       "│ 8153      ┆ Music     ┆ dn.shopif ┆          ┆   ┆           ┆           ┆ Orientati ┆ 0db0011b6 │\n",
       "│           ┆ Player    ┆ y.com/s/f ┆          ┆   ┆           ┆           ┆ on\": \"Hor ┆ dd05a420f │\n",
       "│           ┆ with LCD  ┆ iles/1/00 ┆          ┆   ┆           ┆           ┆ izontal   ┆ d6c882ad5 │\n",
       "│           ┆ Screen    ┆ 48/2787/3 ┆          ┆   ┆           ┆           ┆ (normal)\" ┆ d8b275a22 │\n",
       "│           ┆ Clip-On   ┆ 383/produ ┆          ┆   ┆           ┆           ┆ , \"Image  ┆ 3bd51d3f6 │\n",
       "│           ┆ Mini      ┆ cts/LCD_s ┆          ┆   ┆           ┆           ┆ XResoluti ┆ 73f4ccf47 │\n",
       "│           ┆ Support   ┆ creen_MP3 ┆          ┆   ┆           ┆           ┆ on\":      ┆ 9         │\n",
       "│           ┆ 32GB      ┆ _player_4 ┆          ┆   ┆           ┆           ┆ \"144\",    ┆           │\n",
       "│           ┆ Micro SD  ┆ 20x.jpg?v ┆          ┆   ┆           ┆           ┆ \"Image    ┆           │\n",
       "│           ┆ TF-Assort ┆ =15841369 ┆          ┆   ┆           ┆           ┆ YResoluti ┆           │\n",
       "│           ┆ ed Colors ┆ 39        ┆          ┆   ┆           ┆           ┆ on\":      ┆           │\n",
       "│           ┆ - christm ┆           ┆          ┆   ┆           ┆           ┆ \"144\",    ┆           │\n",
       "│           ┆ asgiftbuy ┆           ┆          ┆   ┆           ┆           ┆ \"Image    ┆           │\n",
       "│           ┆           ┆           ┆          ┆   ┆           ┆           ┆ Resolutio ┆           │\n",
       "│           ┆           ┆           ┆          ┆   ┆           ┆           ┆ nUnit\":   ┆           │\n",
       "│           ┆           ┆           ┆          ┆   ┆           ┆           ┆ \"Pixels/I ┆           │\n",
       "│           ┆           ┆           ┆          ┆   ┆           ┆           ┆ nch\",     ┆           │\n",
       "│           ┆           ┆           ┆          ┆   ┆           ┆           ┆ \"Image    ┆           │\n",
       "│           ┆           ┆           ┆          ┆   ┆           ┆           ┆ YCbCrPosi ┆           │\n",
       "│           ┆           ┆           ┆          ┆   ┆           ┆           ┆ tioning\": ┆           │\n",
       "│           ┆           ┆           ┆          ┆   ┆           ┆           ┆ \"Centered ┆           │\n",
       "│           ┆           ┆           ┆          ┆   ┆           ┆           ┆ \", \"Image ┆           │\n",
       "│           ┆           ┆           ┆          ┆   ┆           ┆           ┆ ExifOffse ┆           │\n",
       "│           ┆           ┆           ┆          ┆   ┆           ┆           ┆ t\": \"1…   ┆           │\n",
       "│ 383658700 ┆ Victure   ┆ https://m ┆ 00000006 ┆ … ┆ 600       ┆ 600       ┆ {}        ┆ 8cd1927f9 │\n",
       "│ 0648      ┆ MP3       ┆ .media-am ┆          ┆   ┆           ┆           ┆           ┆ 6ba921228 │\n",
       "│           ┆ Player    ┆ azon.com/ ┆          ┆   ┆           ┆           ┆           ┆ 3d4c3539b │\n",
       "│           ┆ Clip      ┆ images/I/ ┆          ┆   ┆           ┆           ┆           ┆ 326d84a15 │\n",
       "│           ┆ Bluetooth ┆ 41t12RZwf ┆          ┆   ┆           ┆           ┆           ┆ 0452584e5 │\n",
       "│           ┆ 8G with   ┆ HL._SS600 ┆          ┆   ┆           ┆           ┆           ┆ 415f980fa │\n",
       "│           ┆ FM Radio  ┆ _.jpg     ┆          ┆   ┆           ┆           ┆           ┆ 1085892ff │\n",
       "│           ┆ Sport     ┆           ┆          ┆   ┆           ┆           ┆           ┆ b         │\n",
       "│           ┆ Pedometer ┆           ┆          ┆   ┆           ┆           ┆           ┆           │\n",
       "│           ┆ Voice     ┆           ┆          ┆   ┆           ┆           ┆           ┆           │\n",
       "│           ┆ Recorder  ┆           ┆          ┆   ┆           ┆           ┆           ┆           │\n",
       "│           ┆ Earphones ┆           ┆          ┆   ┆           ┆           ┆           ┆           │\n",
       "│           ┆ Expandabl ┆           ┆          ┆   ┆           ┆           ┆           ┆           │\n",
       "│           ┆ e up to   ┆           ┆          ┆   ┆           ┆           ┆           ┆           │\n",
       "│           ┆ 128GB 3   ┆           ┆          ┆   ┆           ┆           ┆           ┆           │\n",
       "│ 411651400 ┆ 23 Pcs    ┆ https://w ┆ 00000001 ┆ … ┆ null      ┆ null      ┆ null      ┆ null      │\n",
       "│ 1738      ┆ Tool Set  ┆ ww.dealsa ┆          ┆   ┆           ┆           ┆           ┆           │\n",
       "│           ┆ Kit Box   ┆ nimg.com/ ┆          ┆   ┆           ┆           ┆           ┆           │\n",
       "│           ┆ Pink      ┆ d/l400/pi ┆          ┆   ┆           ┆           ┆           ┆           │\n",
       "│           ┆ Women     ┆ ct/383810 ┆          ┆   ┆           ┆           ┆           ┆           │\n",
       "│           ┆ Ladies    ┆ 886274_/2 ┆          ┆   ┆           ┆           ┆           ┆           │\n",
       "│           ┆ Girls     ┆ 3-pcs-too ┆          ┆   ┆           ┆           ┆           ┆           │\n",
       "│           ┆ Female    ┆ l-set-kit ┆          ┆   ┆           ┆           ┆           ┆           │\n",
       "│           ┆ Hand      ┆ -box-pink ┆          ┆   ┆           ┆           ┆           ┆           │\n",
       "│           ┆ Tools     ┆ -women-la ┆          ┆   ┆           ┆           ┆           ┆           │\n",
       "│           ┆ Pliers •  ┆ dies-girl ┆          ┆   ┆           ┆           ┆           ┆           │\n",
       "│           ┆ 16.11£    ┆ s-female- ┆          ┆   ┆           ┆           ┆           ┆           │\n",
       "│           ┆           ┆ hand.jpg  ┆          ┆   ┆           ┆           ┆           ┆           │\n",
       "│ 292383200 ┆ Dialectic ┆ https://m ┆ 00000008 ┆ … ┆ 320       ┆ 320       ┆ {}        ┆ 8bb9efa55 │\n",
       "│ 9258      ┆ al        ┆ .media-am ┆          ┆   ┆           ┆           ┆           ┆ 44352e219 │\n",
       "│           ┆ Behavior  ┆ azon.com/ ┆          ┆   ┆           ┆           ┆           ┆ 0728c851d │\n",
       "│           ┆ Therapy:  ┆ images/I/ ┆          ┆   ┆           ┆           ┆           ┆ 3d61a96fe │\n",
       "│           ┆ The       ┆ 511LtEZ2m ┆          ┆   ┆           ┆           ┆           ┆ a4bcd7931 │\n",
       "│           ┆ Ultimate  ┆ 5L._SL320 ┆          ┆   ┆           ┆           ┆           ┆ 34e34e30c │\n",
       "│           ┆ Guide for ┆ _.jpg     ┆          ┆   ┆           ┆           ┆           ┆ db76c8c36 │\n",
       "│           ┆ Using DBT ┆           ┆          ┆   ┆           ┆           ┆           ┆ 6         │\n",
       "│           ┆ for Borde ┆           ┆          ┆   ┆           ┆           ┆           ┆           │\n",
       "│           ┆ rline Per ┆           ┆          ┆   ┆           ┆           ┆           ┆           │\n",
       "│           ┆ sonality  ┆           ┆          ┆   ┆           ┆           ┆           ┆           │\n",
       "│           ┆ Disorder, ┆           ┆          ┆   ┆           ┆           ┆           ┆           │\n",
       "│           ┆ Difficult ┆           ┆          ┆   ┆           ┆           ┆           ┆           │\n",
       "│           ┆ Emotions  ┆           ┆          ┆   ┆           ┆           ┆           ┆           │\n",
       "│           ┆ and Mood  ┆           ┆          ┆   ┆           ┆           ┆           ┆           │\n",
       "│           ┆ Swings,   ┆           ┆          ┆   ┆           ┆           ┆           ┆           │\n",
       "│           ┆ Including ┆           ┆          ┆   ┆           ┆           ┆           ┆           │\n",
       "│           ┆ Technique ┆           ┆          ┆   ┆           ┆           ┆           ┆           │\n",
       "│           ┆ s such as ┆           ┆          ┆   ┆           ┆           ┆           ┆           │\n",
       "│           ┆ Mindfulne ┆           ┆          ┆   ┆           ┆           ┆           ┆           │\n",
       "│           ┆ ss and    ┆           ┆          ┆   ┆           ┆           ┆           ┆           │\n",
       "│           ┆ Emotion   ┆           ┆          ┆   ┆           ┆           ┆           ┆           │\n",
       "│           ┆ Regulatio ┆           ┆          ┆   ┆           ┆           ┆           ┆           │\n",
       "│           ┆ n …       ┆           ┆          ┆   ┆           ┆           ┆           ┆           │\n",
       "│ 371588901 ┆ Primary   ┆ https://i ┆ 00000005 ┆ … ┆ 500       ┆ 480       ┆ {}        ┆ 12fdf117c │\n",
       "│ 6426      ┆ image for ┆ mages.bon ┆          ┆   ┆           ┆           ┆           ┆ b0a551343 │\n",
       "│           ┆ Let's     ┆ anzastati ┆          ┆   ┆           ┆           ┆           ┆ ded61c6fd │\n",
       "│           ┆ Swing     ┆ c.com/afu ┆          ┆   ┆           ┆           ┆           ┆ e8308900a │\n",
       "│           ┆ Disc      ┆ /images/2 ┆          ┆   ┆           ┆           ┆           ┆ ffa584d18 │\n",
       "│           ┆ Three     ┆ 375/2386/ ┆          ┆   ┆           ┆           ┆           ┆ 6a85f1d4f │\n",
       "│           ┆ [Audio    ┆ 66/61ixzu ┆          ┆   ┆           ┆           ┆           ┆ 11387e4f6 │\n",
       "│           ┆ CD] Stan  ┆ adt1l._sl ┆          ┆   ┆           ┆           ┆           ┆ e         │\n",
       "│           ┆ Kenton;   ┆ 1500_.jpg ┆          ┆   ┆           ┆           ┆           ┆           │\n",
       "│           ┆ Ben       ┆           ┆          ┆   ┆           ┆           ┆           ┆           │\n",
       "│           ┆ Pollack;  ┆           ┆          ┆   ┆           ┆           ┆           ┆           │\n",
       "│           ┆ Cab       ┆           ┆          ┆   ┆           ┆           ┆           ┆           │\n",
       "│           ┆ Calloway; ┆           ┆          ┆   ┆           ┆           ┆           ┆           │\n",
       "│           ┆ Ben..     ┆           ┆          ┆   ┆           ┆           ┆           ┆           │\n",
       "│ …         ┆ …         ┆ …         ┆ …        ┆ … ┆ …         ┆ …         ┆ …         ┆ …         │\n",
       "│ 231204301 ┆ Beautiful ┆ https://p ┆ 00000372 ┆ … ┆ 338       ┆ 450       ┆ {\"Image   ┆ 51308c048 │\n",
       "│ 4249      ┆ fall      ┆ hotos.smu ┆          ┆   ┆           ┆           ┆ ExifOffse ┆ 3ad2d901a │\n",
       "│           ┆ colored   ┆ gmug.com/ ┆          ┆   ┆           ┆           ┆ t\": \"26\"} ┆ c270a515f │\n",
       "│           ┆ maple     ┆ Stock-Pho ┆          ┆   ┆           ┆           ┆           ┆ f7bab113a │\n",
       "│           ┆ leaves,   ┆ tos-and-I ┆          ┆   ┆           ┆           ┆           ┆ 386839c1b │\n",
       "│           ┆ next to   ┆ llustrati ┆          ┆   ┆           ┆           ┆           ┆ 6d8092b28 │\n",
       "│           ┆ an aspen  ┆ ons/Sceni ┆          ┆   ┆           ┆           ┆           ┆ c5e9887ed │\n",
       "│           ┆ tree      ┆ cLandscap ┆          ┆   ┆           ┆           ┆           ┆ 7         │\n",
       "│           ┆ trunk,    ┆ e/i-W2WmN ┆          ┆   ┆           ┆           ┆           ┆           │\n",
       "│           ┆ beneath a ┆ T9/2/4265 ┆          ┆   ┆           ┆           ┆           ┆           │\n",
       "│           ┆ deep blue ┆ efb1/M/tr ┆          ┆   ┆           ┆           ┆           ┆           │\n",
       "│           ┆ sky in    ┆ ip%20176- ┆          ┆   ┆           ┆           ┆           ┆           │\n",
       "│           ┆ Colorado  ┆ M.jpg     ┆          ┆   ┆           ┆           ┆           ┆           │\n",
       "│ 181432000 ┆ magenta   ┆ http://im ┆ 00000328 ┆ … ┆ 300       ┆ 450       ┆ {\"Image   ┆ 47de27ebe │\n",
       "│ 232       ┆ OASAP bag ┆ ages3.chi ┆          ┆   ┆           ┆           ┆ ImageWidt ┆ 85ac16676 │\n",
       "│           ┆ - navy    ┆ ctopia.co ┆          ┆   ┆           ┆           ┆ h\":       ┆ b40e1ba27 │\n",
       "│           ┆ Topshop   ┆ m/photos/ ┆          ┆   ┆           ┆           ┆ \"3456\",   ┆ 06643d340 │\n",
       "│           ┆ jeans -   ┆ RetroStre ┆          ┆   ┆           ┆           ┆ \"Image    ┆ ab7d5ff5e │\n",
       "│           ┆ black Lov ┆ etStation ┆          ┆   ┆           ┆           ┆ ImageLeng ┆ 69435965c │\n",
       "│           ┆ elyshoes  ┆ /48451285 ┆          ┆   ┆           ┆           ┆ th\":      ┆ bcb1bf99e │\n",
       "│           ┆ blazer    ┆ 44/navy-t ┆          ┆   ┆           ┆           ┆ \"5184\",   ┆ 9         │\n",
       "│           ┆           ┆ opshop-je ┆          ┆   ┆           ┆           ┆ \"Image    ┆           │\n",
       "│           ┆           ┆ ans-black ┆          ┆   ┆           ┆           ┆ BitsPerSa ┆           │\n",
       "│           ┆           ┆ -lovelysh ┆          ┆   ┆           ┆           ┆ mple\":    ┆           │\n",
       "│           ┆           ┆ oes-blaze ┆          ┆   ┆           ┆           ┆ \"[8, 8,   ┆           │\n",
       "│           ┆           ┆ r-magenta ┆          ┆   ┆           ┆           ┆ 8]\",      ┆           │\n",
       "│           ┆           ┆ -oasap-ba ┆          ┆   ┆           ┆           ┆ \"Image    ┆           │\n",
       "│           ┆           ┆ g.jpg     ┆          ┆   ┆           ┆           ┆ Photometr ┆           │\n",
       "│           ┆           ┆           ┆          ┆   ┆           ┆           ┆ icInterpr ┆           │\n",
       "│           ┆           ┆           ┆          ┆   ┆           ┆           ┆ etation\": ┆           │\n",
       "│           ┆           ┆           ┆          ┆   ┆           ┆           ┆ \"2\",      ┆           │\n",
       "│           ┆           ┆           ┆          ┆   ┆           ┆           ┆ \"Image    ┆           │\n",
       "│           ┆           ┆           ┆          ┆   ┆           ┆           ┆ Make\":    ┆           │\n",
       "│           ┆           ┆           ┆          ┆   ┆           ┆           ┆ \"Canon\",  ┆           │\n",
       "│           ┆           ┆           ┆          ┆   ┆           ┆           ┆ \"Image    ┆           │\n",
       "│           ┆           ┆           ┆          ┆   ┆           ┆           ┆ Model\":   ┆           │\n",
       "│           ┆           ┆           ┆          ┆   ┆           ┆           ┆ \"Canon    ┆           │\n",
       "│           ┆           ┆           ┆          ┆   ┆           ┆           ┆ EOS       ┆           │\n",
       "│           ┆           ┆           ┆          ┆   ┆           ┆           ┆ 550D\",    ┆           │\n",
       "│           ┆           ┆           ┆          ┆   ┆           ┆           ┆ \"Image    ┆           │\n",
       "│           ┆           ┆           ┆          ┆   ┆           ┆           ┆ Ori…      ┆           │\n",
       "│ 189141701 ┆ display   ┆ https://m ┆ 00000371 ┆ … ┆ 900       ┆ 900       ┆ {}        ┆ 0b3a4d2e3 │\n",
       "│ 0526      ┆ product   ┆ obileimag ┆          ┆   ┆           ┆           ┆           ┆ 1fd77c56e │\n",
       "│           ┆ reviews   ┆ es.lowes. ┆          ┆   ┆           ┆           ┆           ┆ dfc49f911 │\n",
       "│           ┆ for       ┆ com/produ ┆          ┆   ┆           ┆           ┆           ┆ 2fa69e0d5 │\n",
       "│           ┆ roughneck ┆ ct/conver ┆          ┆   ┆           ┆           ┆           ┆ ebe99f700 │\n",
       "│           ┆ storage   ┆ ted/07169 ┆          ┆   ┆           ┆           ┆           ┆ c4371998f │\n",
       "│           ┆ shed      ┆ 1/0716914 ┆          ┆   ┆           ┆           ┆           ┆ ff74d0dde │\n",
       "│           ┆ common 5  ┆ 81799.jpg ┆          ┆   ┆           ┆           ┆           ┆ f         │\n",
       "│           ┆ ft x 6    ┆           ┆          ┆   ┆           ┆           ┆           ┆           │\n",
       "│ 310155600 ┆ Chico &   ┆ https://w ┆ 00000369 ┆ … ┆ null      ┆ null      ┆ null      ┆ null      │\n",
       "│ 8007      ┆ Frisco    ┆ ww.vinyli ┆          ┆   ┆           ┆           ┆           ┆           │\n",
       "│           ┆ Kid /     ┆ sm.de/med ┆          ┆   ┆           ┆           ┆           ┆           │\n",
       "│           ┆ T.O.K. -  ┆ ia/catalo ┆          ┆   ┆           ┆           ┆           ┆           │\n",
       "│           ┆ Gal       ┆ g/product ┆          ┆   ┆           ┆           ┆           ┆           │\n",
       "│           ┆ Teacher / ┆ /cache/2/ ┆          ┆   ┆           ┆           ┆           ┆           │\n",
       "│           ┆ Gal Fi    ┆ small_ima ┆          ┆   ┆           ┆           ┆           ┆           │\n",
       "│           ┆ Get       ┆ ge/400x40 ┆          ┆   ┆           ┆           ┆           ┆           │\n",
       "│           ┆ Loving    ┆ 0/17f82f7 ┆          ┆   ┆           ┆           ┆           ┆           │\n",
       "│           ┆           ┆ 42ffe127f ┆          ┆   ┆           ┆           ┆           ┆           │\n",
       "│           ┆           ┆ 42dca9de8 ┆          ┆   ┆           ┆           ┆           ┆           │\n",
       "│           ┆           ┆ 2fb58b1/2 ┆          ┆   ┆           ┆           ┆           ┆           │\n",
       "│           ┆           ┆ /3/237582 ┆          ┆   ┆           ┆           ┆           ┆           │\n",
       "│           ┆           ┆ .jpg      ┆          ┆   ┆           ┆           ┆           ┆           │\n",
       "│ 112125003 ┆ New       ┆ http://hi ┆ 00000290 ┆ … ┆ null      ┆ null      ┆ null      ┆ null      │\n",
       "│ 890       ┆ OtherTees ┆ deyourarm ┆          ┆   ┆           ┆           ┆           ┆           │\n",
       "│           ┆ Website   ┆ s.com/wp- ┆          ┆   ┆           ┆           ┆           ┆           │\n",
       "│           ┆ Countdown ┆ content/u ┆          ┆   ┆           ┆           ┆           ┆           │\n",
       "│           ┆ 132739828 ┆ ploads/20 ┆          ┆   ┆           ┆           ┆           ┆           │\n",
       "│           ┆ 6415 T    ┆ 12/01/New ┆          ┆   ┆           ┆           ┆           ┆           │\n",
       "│           ┆ shirt     ┆ -OtherTee ┆          ┆   ┆           ┆           ┆           ┆           │\n",
       "│           ┆ news for  ┆ s-Website ┆          ┆   ┆           ┆           ┆           ┆           │\n",
       "│           ┆ January   ┆ -Countdow ┆          ┆   ┆           ┆           ┆           ┆           │\n",
       "│           ┆ 24th      ┆ n_1327398 ┆          ┆   ┆           ┆           ┆           ┆           │\n",
       "│           ┆           ┆ 286415.pn ┆          ┆   ┆           ┆           ┆           ┆           │\n",
       "│           ┆           ┆ g         ┆          ┆   ┆           ┆           ┆           ┆           │\n",
       "└───────────┴───────────┴───────────┴──────────┴───┴───────────┴───────────┴───────────┴───────────┘"
      ]
     },
     "execution_count": 10,
     "metadata": {},
     "output_type": "execute_result"
    }
   ],
   "source": [
    "df"
   ]
  },
  {
   "cell_type": "code",
   "execution_count": null,
   "metadata": {},
   "outputs": [],
   "source": []
  }
 ],
 "metadata": {
  "kernelspec": {
   "display_name": "Python 3",
   "language": "python",
   "name": "python3"
  },
  "language_info": {
   "codemirror_mode": {
    "name": "ipython",
    "version": 3
   },
   "file_extension": ".py",
   "mimetype": "text/x-python",
   "name": "python",
   "nbconvert_exporter": "python",
   "pygments_lexer": "ipython3",
   "version": "3.12.3"
  }
 },
 "nbformat": 4,
 "nbformat_minor": 2
}
