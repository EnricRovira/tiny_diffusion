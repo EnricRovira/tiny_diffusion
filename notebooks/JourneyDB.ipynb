{
 "cells": [
  {
   "cell_type": "code",
   "execution_count": 9,
   "metadata": {},
   "outputs": [
    {
     "data": {
      "text/plain": [
       "polars.config.Config"
      ]
     },
     "execution_count": 9,
     "metadata": {},
     "output_type": "execute_result"
    }
   ],
   "source": [
    "import polars as pl\n",
    "import json \n",
    "import os\n",
    "from PIL import Image\n",
    "import tarfile\n",
    "import operator\n",
    "from functools import reduce\n",
    "from tqdm import tqdm\n",
    "\n",
    "pl.Config.set_fmt_str_lengths(200)"
   ]
  },
  {
   "cell_type": "code",
   "execution_count": 16,
   "metadata": {},
   "outputs": [],
   "source": [
    "PATH = '/mnt/sd1tb/tinydiffusion/dataset_v1/'"
   ]
  },
  {
   "cell_type": "code",
   "execution_count": 55,
   "metadata": {},
   "outputs": [],
   "source": [
    "def build_real_images_consolidated_data(path):\n",
    "    path_external_imgs = path + 'imgs/'\n",
    "    dataframes = []\n",
    "    for filename in os.listdir(path_external_imgs):\n",
    "        if filename.endswith(\".parquet\"):\n",
    "            parquet_path = os.path.join(path_external_imgs, filename)\n",
    "            path_shard = parquet_path.split('.')[:-1][0].replace('dataset_v0', 'dataset_v1')\n",
    "            df = pl.read_parquet(parquet_path)\n",
    "            df = df.with_columns(\n",
    "                pl.col('key').map_elements(\n",
    "                    lambda x: os.path.join(path_shard, f'{x}.jpg'),\n",
    "                    return_dtype=pl.Utf8\n",
    "                ).alias(\"path\")\n",
    "            )\n",
    "            dataframes.append(df)\n",
    "    df_final = pl.concat(dataframes).filter(pl.col('status')=='success')\n",
    "    return df_final\n",
    "\n",
    "def build_synthetic_images_consolidated_data(path):\n",
    "    path_data = path + 'diffusiondb/'\n",
    "    parts = os.listdir(path_data)\n",
    "    list_data = []\n",
    "    for part in tqdm(parts):\n",
    "        data = part_data = json.load(open(f'{path_data}{part}/{part}.json'))\n",
    "        for record in data:\n",
    "            list_data.append({\n",
    "                'id': record,\n",
    "                'path': f'{path_data}{part}/{record}',\n",
    "                'caption': data[record]['p']\n",
    "            })\n",
    "    df = pl.from_dicts(list_data).unique('caption')\n",
    "    return df"
   ]
  },
  {
   "cell_type": "code",
   "execution_count": 56,
   "metadata": {},
   "outputs": [
    {
     "name": "stderr",
     "output_type": "stream",
     "text": [
      "100%|██████████| 1000/1000 [00:00<00:00, 1308.70it/s]\n"
     ]
    }
   ],
   "source": [
    "# df_real_images = build_real_images_consolidated_data(PATH)\n",
    "df_synthetic_images = build_synthetic_images_consolidated_data(PATH)"
   ]
  },
  {
   "cell_type": "code",
   "execution_count": 69,
   "metadata": {},
   "outputs": [
    {
     "data": {
      "text/html": [
       "<div><style>\n",
       ".dataframe > thead > tr,\n",
       ".dataframe > tbody > tr {\n",
       "  text-align: right;\n",
       "  white-space: pre-wrap;\n",
       "}\n",
       "</style>\n",
       "<small>shape: (3, 4)</small><table border=\"1\" class=\"dataframe\"><thead><tr><th>id</th><th>path</th><th>caption</th><th>source</th></tr><tr><td>str</td><td>str</td><td>str</td><td>str</td></tr></thead><tbody><tr><td>&quot;001593561.jpg&quot;</td><td>&quot;/mnt/sd1tb/tinydiffusion/dataset_v1/imgs/00114/001140009.jpg&quot;</td><td>&quot;a serene and picturesque forest scene with a stream of water flowing through it. The water appears to be murky, adding to the natural atmosphere of the scene. There are several trees surrounding the s…</td><td>&quot;real&quot;</td></tr><tr><td>&quot;003427400.jpg&quot;</td><td>&quot;/mnt/sd1tb/tinydiffusion/dataset_v1/imgs/00114/001140006.jpg&quot;</td><td>&quot;a man dressed in royal attire, standing in a room with a red carpet. He is wearing a crown and holding a scepter, giving the impression of a king or a high-ranking official. The man is also wearing a …</td><td>&quot;real&quot;</td></tr><tr><td>&quot;004964454.jpg&quot;</td><td>&quot;/mnt/sd1tb/tinydiffusion/dataset_v1/imgs/00114/001140032.jpg&quot;</td><td>&quot;a black t-shirt with a skull graphic on it. The skull is surrounded by three roses, each with a different color. The t-shirt is designed to be worn by a man, and the image is a close-up of the shirt. …</td><td>&quot;real&quot;</td></tr></tbody></table></div>"
      ],
      "text/plain": [
       "shape: (3, 4)\n",
       "┌───────────────┬────────────────────────────────────┬────────────────────────────────────┬────────┐\n",
       "│ id            ┆ path                               ┆ caption                            ┆ source │\n",
       "│ ---           ┆ ---                                ┆ ---                                ┆ ---    │\n",
       "│ str           ┆ str                                ┆ str                                ┆ str    │\n",
       "╞═══════════════╪════════════════════════════════════╪════════════════════════════════════╪════════╡\n",
       "│ 001593561.jpg ┆ /mnt/sd1tb/tinydiffusion/dataset_v ┆ a serene and picturesque forest    ┆ real   │\n",
       "│               ┆ 1/imgs/00114/001140009.jpg         ┆ scene with a stream of water       ┆        │\n",
       "│               ┆                                    ┆ flowing through it. The water      ┆        │\n",
       "│               ┆                                    ┆ appears to be murky, adding to the ┆        │\n",
       "│               ┆                                    ┆ natural atmosphere of the scene.   ┆        │\n",
       "│               ┆                                    ┆ There are several trees            ┆        │\n",
       "│               ┆                                    ┆ surrounding the s…                 ┆        │\n",
       "│ 003427400.jpg ┆ /mnt/sd1tb/tinydiffusion/dataset_v ┆ a man dressed in royal attire,     ┆ real   │\n",
       "│               ┆ 1/imgs/00114/001140006.jpg         ┆ standing in a room with a red      ┆        │\n",
       "│               ┆                                    ┆ carpet. He is wearing a crown and  ┆        │\n",
       "│               ┆                                    ┆ holding a scepter, giving the      ┆        │\n",
       "│               ┆                                    ┆ impression of a king or a          ┆        │\n",
       "│               ┆                                    ┆ high-ranking official. The man is  ┆        │\n",
       "│               ┆                                    ┆ also wearing a …                   ┆        │\n",
       "│ 004964454.jpg ┆ /mnt/sd1tb/tinydiffusion/dataset_v ┆ a black t-shirt with a skull       ┆ real   │\n",
       "│               ┆ 1/imgs/00114/001140032.jpg         ┆ graphic on it. The skull is        ┆        │\n",
       "│               ┆                                    ┆ surrounded by three roses, each    ┆        │\n",
       "│               ┆                                    ┆ with a different color. The        ┆        │\n",
       "│               ┆                                    ┆ t-shirt is designed to be worn by  ┆        │\n",
       "│               ┆                                    ┆ a man, and the image is a close-up ┆        │\n",
       "│               ┆                                    ┆ of the shirt. …                    ┆        │\n",
       "└───────────────┴────────────────────────────────────┴────────────────────────────────────┴────────┘"
      ]
     },
     "execution_count": 69,
     "metadata": {},
     "output_type": "execute_result"
    }
   ],
   "source": [
    "df = pl.read_parquet(PATH + 'dataset_gold.parquet')\n",
    "df.head(3)"
   ]
  },
  {
   "cell_type": "code",
   "execution_count": 80,
   "metadata": {},
   "outputs": [],
   "source": [
    "import numpy as np\n",
    "# Asignar \"train\" a todas las filas con 'source' == \"synthetic\"\n",
    "df = df.with_columns(\n",
    "    pl.when(pl.col(\"source\") != \"real\")\n",
    "    .then(pl.lit(\"train\"))\n",
    "    .otherwise(pl.lit(None))\n",
    "    .alias(\"set\")\n",
    ")\n",
    "\n",
    "df_real = df.filter(pl.col('source')=='real')\n",
    "idxs = np.arange(len(df_real))\n",
    "np.random.shuffle(idxs)\n",
    "tr_idxs, val_idxs = idxs[:-1024], idxs[-1024:]\n",
    "df_train = pl.concat([\n",
    "    df_real[tr_idxs],\n",
    "    df.filter(pl.col('set')=='train')\n",
    "])\n",
    "df_val = df_real[val_idxs]\n",
    "\n",
    "assert len(df_train)+len(df_val)==len(df)"
   ]
  },
  {
   "cell_type": "code",
   "execution_count": 76,
   "metadata": {},
   "outputs": [
    {
     "data": {
      "text/plain": [
       "array([ 421723,  221712,  605468, ..., 1055353,  282139, 1005798])"
      ]
     },
     "execution_count": 76,
     "metadata": {},
     "output_type": "execute_result"
    }
   ],
   "source": []
  },
  {
   "cell_type": "code",
   "execution_count": null,
   "metadata": {},
   "outputs": [],
   "source": []
  },
  {
   "cell_type": "code",
   "execution_count": null,
   "metadata": {},
   "outputs": [],
   "source": []
  },
  {
   "cell_type": "code",
   "execution_count": null,
   "metadata": {},
   "outputs": [],
   "source": []
  },
  {
   "cell_type": "code",
   "execution_count": null,
   "metadata": {},
   "outputs": [],
   "source": []
  },
  {
   "cell_type": "code",
   "execution_count": null,
   "metadata": {},
   "outputs": [],
   "source": []
  },
  {
   "cell_type": "code",
   "execution_count": null,
   "metadata": {},
   "outputs": [],
   "source": []
  }
 ],
 "metadata": {
  "kernelspec": {
   "display_name": ".venv",
   "language": "python",
   "name": "python3"
  },
  "language_info": {
   "codemirror_mode": {
    "name": "ipython",
    "version": 3
   },
   "file_extension": ".py",
   "mimetype": "text/x-python",
   "name": "python",
   "nbconvert_exporter": "python",
   "pygments_lexer": "ipython3",
   "version": "3.12.3"
  }
 },
 "nbformat": 4,
 "nbformat_minor": 2
}
